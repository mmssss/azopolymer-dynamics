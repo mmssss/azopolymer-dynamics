{
 "cells": [
  {
   "cell_type": "code",
   "execution_count": 1,
   "metadata": {},
   "outputs": [],
   "source": [
    "%matplotlib widget\n",
    "from mpl_toolkits.mplot3d import axes3d\n",
    "import matplotlib.pyplot as plt\n",
    "from matplotlib.patches import Rectangle\n",
    "from mpl_toolkits.axes_grid1 import make_axes_locatable\n",
    "import ipywidgets\n",
    "\n",
    "import numpy as np\n",
    "import numba\n",
    "from numba import jit\n",
    "from scipy import interpolate\n",
    "from scipy import integrate\n",
    "\n",
    "\n",
    "@jit(nopython=True)\n",
    "def points_count(a, b, step):\n",
    "    return int(np.ceil(np.abs(b - a) / step)) + 1"
   ]
  },
  {
   "cell_type": "markdown",
   "metadata": {},
   "source": [
    "# Одномерный случай\n",
    "\n",
    "## Движение одной частицы\n",
    "\n",
    "Функция $G(x, x_0, t)$ - это плотность вероятности того, что молекула, находившаяся в точке $x_0$ в момент времени $t = 0$, находится в точке $x$ в момент времени $t$. \n",
    "Она описывает центростремительное движение молекул на отрезке $[-l, l]$ при следующем линейном распределении интенсивности светового излучения: $I(x) = \\frac{I_0}{l} |x|$.\n",
    "\n",
    "\\begin{equation}\n",
    "    G(x, x_0, t) = \n",
    "        \\frac{1}{\\sigma(t) \\sqrt{2 \\pi }}\n",
    "        \\exp \\left(\n",
    "            - \\frac{1}{2}\n",
    "            \\frac{\\left[ x - \\mu(x_0, t) \\right]^2}{\\sigma^2(t)}\n",
    "        \\right),\n",
    "\\end{equation}\n",
    "\n",
    "\\begin{equation}\n",
    "    \\sigma (t) = \\sqrt{\\frac{k_B T}{k} \\left( 1 - \\exp \\left[ -\\frac{2 t}{\\tau} \\right] \\right)},\n",
    "\\end{equation}\n",
    "\n",
    "\\begin{equation}\n",
    "    \\mu(x_0, t) = x_0 \\exp \\left( -\\frac{t}{\\tau} \\right).\n",
    "\\end{equation}\n",
    "\n",
    "Единицы измерения приведённых величин в СИ:\n",
    "\n",
    "* $ \\frac{k_B T}{k}$ – $м^2$;\n",
    "* $ \\tau $ - $с$;\n",
    "* $\\sigma(t)$ – $м$;\n",
    "* $\\mu(x_0, t)$ – $м$;\n",
    "* $G(x, x_0, t)$ – $м^{-1}$.\n",
    "\n",
    "Функция $G_1(x, x_0, t)$ описывает движение молекулы на отрезке $[0, l]$ при распределении интенсивности $I(x) = I_0 (1 - x/l)$.\n",
    "\n",
    "\\begin{equation}\n",
    "    G_1(x, x_0, t) = G(x - l, x_0 - l, t).\n",
    "\\end{equation}\n",
    "\n",
    "Длина отрезка, на котором задано линейное распределение интенсивности, и максимальное значение интенсивности на нём учитывается в параметрах $k$ и $\\tau$."
   ]
  },
  {
   "cell_type": "code",
   "execution_count": 54,
   "metadata": {},
   "outputs": [],
   "source": [
    "# Reference parameter values [1]\n",
    "# Phenomenological parameters\n",
    "a = 43              # nm                           (Initial level of surface)\n",
    "k_prime = 16        # fN * mW^(-1) cm^(-2)\n",
    "τ_prime = 3694      # s * mW * cm^(-2) * μm^(-1)\n",
    "\n",
    "# Other parametsrs\n",
    "kB = 1.380649e-23         # J * K^(-1) [J = Joule = N * m]   (Boltzmann constant)\n",
    "T = 298                   # K                                (Absolute temperature)\n",
    "I0 = 6.25           # mW * cm^(-2)\n",
    "l = 0.9             # μm\n",
    "\n",
    "# P = I0 / l       delete this line if everything works"
   ]
  },
  {
   "cell_type": "code",
   "execution_count": 55,
   "metadata": {},
   "outputs": [],
   "source": [
    "# @jit(nopython=True)\n",
    "def G(x, x0, t, l, I_max, I_min):\n",
    "    \"\"\"\n",
    "    Units of measurements:\n",
    "    x, x0, l:  μm\n",
    "    t:         s\n",
    "    return:    nm^(-1)\n",
    "    \"\"\"\n",
    "    # TODO: if I == 0, use free diffusion distribution instead (eq. 19 from [2])\n",
    "    P = (I_max - I_min) / l   # mW * cm^(-2) * μm^(-1)   (Overall intensity gradient)\n",
    "    k = k_prime * P * 1e-9    # N / m\n",
    "    τ = τ_prime / P           # s\n",
    "    x *= 1e-6  \n",
    "    x0 *= 1e-6\n",
    "    # now the result will be in nm^(-1)\n",
    "    var = kB * T / k * (1 - np.exp(-2 * t / τ))  # variance, equals to σ^2\n",
    "    μ = x0 * np.exp(-t / τ)                      # expected value\n",
    "    term1 = 1 / np.sqrt(2 * np.pi * var)\n",
    "    term2 = -0.5 * (x - μ) ** 2 / var\n",
    "    result = term1 * np.exp(term2)\n",
    "    # convert arguments back to micrometers\n",
    "    x *= 1e6\n",
    "    x0 *= 1e6\n",
    "    # convert result to nm^(-1): 1 m^(-1) = 1e-9 nm^(-1)\n",
    "    result *= 1e-9\n",
    "    return result\n",
    "\n",
    "# TODO: handle the case when x or/and x0 are outside [0, l] (delta(x0) or free diffusion or smth else)\n",
    "# @jit(nopython=True)\n",
    "def G1(x, x0, t, l, I_max, I_min):\n",
    "    return G(x - l, x0 - l, t, l, I_max, I_min)\n",
    "\n",
    "def G1_extended(x, x0, t, l, I_max, I_min):\n",
    "    if x0 < 0 or x0 > l:\n",
    "        if x == x0:\n",
    "            if x == x0:\n",
    "                return 1\n",
    "            else:\n",
    "                return 0\n",
    "    else:\n",
    "        return G(x - l, x0 - l, t, l, I_max, I_min)\n",
    "    \n",
    "# G1 = G1_extended"
   ]
  },
  {
   "cell_type": "markdown",
   "metadata": {
    "tags": []
   },
   "source": [
    "### График функции $G(x, x_0, t)$ и соответствующего распределения интенсивности"
   ]
  },
  {
   "cell_type": "code",
   "execution_count": 4,
   "metadata": {
    "collapsed": true,
    "jupyter": {
     "outputs_hidden": true,
     "source_hidden": true
    },
    "tags": []
   },
   "outputs": [
    {
     "data": {
      "application/vnd.jupyter.widget-view+json": {
       "model_id": "4fa4e3513ff9463db586c613aa30a19b",
       "version_major": 2,
       "version_minor": 0
      },
      "text/plain": [
       "Canvas(toolbar=Toolbar(toolitems=[('Home', 'Reset original view', 'home', 'home'), ('Back', 'Back to previous …"
      ]
     },
     "metadata": {},
     "output_type": "display_data"
    },
    {
     "data": {
      "application/vnd.jupyter.widget-view+json": {
       "model_id": "4942de3587f24e6d8450fd5cdc9bb9c4",
       "version_major": 2,
       "version_minor": 0
      },
      "text/plain": [
       "interactive(children=(FloatSlider(value=-0.9, description='x0', max=0.9, min=-0.9, step=0.07), IntSlider(value…"
      ]
     },
     "metadata": {},
     "output_type": "display_data"
    },
    {
     "data": {
      "application/vnd.jupyter.widget-view+json": {
       "model_id": "1eb9bdcb4f6142a99ef67deb9d13a4d3",
       "version_major": 2,
       "version_minor": 0
      },
      "text/plain": [
       "Canvas(toolbar=Toolbar(toolitems=[('Home', 'Reset original view', 'home', 'home'), ('Back', 'Back to previous …"
      ]
     },
     "metadata": {},
     "output_type": "display_data"
    }
   ],
   "source": [
    "t_start = 10\n",
    "t_end = 500\n",
    "t_step = 10\n",
    "t_pcount = points_count(t_start, t_end, t_step)\n",
    "\n",
    "x0_start = -l\n",
    "x0_end = l\n",
    "x0_step = 0.07\n",
    "x0_pcount = points_count(t_start, t_end, t_step)\n",
    "\n",
    "x_pcount = 400\n",
    "x = np.linspace(-l, l, x_pcount)\n",
    "\n",
    "plt.close(\"G plot\")\n",
    "fig00, ax00 = plt.subplots(num=\"G plot\")\n",
    "\n",
    "def init_G_plot():\n",
    "    ax00.cla()\n",
    "    ax00.set_title(\"График функции $G(x, x_0, t)$\")\n",
    "    ax00.set_xlim(-l, l)\n",
    "    ax00.set_ylim(0, 0.012)\n",
    "    ax00.set_xlabel(\"$x$, мкм\")\n",
    "    ax00.set_ylabel(\"$G(x, x_0, t)$, нм$^{-1}$\")\n",
    "    \n",
    "def plot_G_lines(x0):\n",
    "    t = [10, 20, 30, 40, 60, 100, 200, 300, 400, 500]\n",
    "    ax00.set_xlim(0, l)\n",
    "    ax00.set_ylim(0, 0.012)\n",
    "    ax00.set_xlabel(\"$x$, мкм\")\n",
    "    ax00.set_ylabel(\"$G(x, x_0, t)$, нм$^{-1}$\")\n",
    "    for t_val in t:\n",
    "        ax00.plot(x, G(x, x0, t_val, l, I0, 0), label=f't = {t_val} с')\n",
    "    ax00.legend()\n",
    "\n",
    "@ipywidgets.interact(x0=(x0_start, x0_end, x0_step), t=(t_start, t_end, t_step))\n",
    "def update_G_plot(x0=x0_start, t=t_start):\n",
    "    init_G_plot()\n",
    "    ax00.grid(True)\n",
    "    ax00.axvline(x=x0, color='gray', linestyle='--', label=f'$x_0 = {x0}$ мкм', linewidth=1)\n",
    "    ax00.plot(x, G(x, x0, t, l, I0, 0), color='C0')\n",
    "    ax00.legend()\n",
    "    \n",
    "# plot_G_lines(0.7)\n",
    "# fig00.savefig('G(x, x0=0.7, t).png', dpi=400)\n",
    "    \n",
    "Ix_G = I0 / l * np.abs(x)\n",
    "\n",
    "plt.close('intensity for G')\n",
    "fig01, ax01 = plt.subplots(num='intensity for G')\n",
    "ax01.grid(True)\n",
    "ax01.set_title(\"График соответствующего\\nраспределения интенсивности\")\n",
    "ax01.set_xlim(-l, l)\n",
    "ax01.set_xlabel(\"$x$, мкм\")\n",
    "ax01.set_ylabel(\"Интенсивность, мВт/см²\")\n",
    "ax01.plot(x, Ix_G, color='C1');"
   ]
  },
  {
   "cell_type": "markdown",
   "metadata": {
    "tags": []
   },
   "source": [
    "### График функции $G_1(x, x_0, t)$"
   ]
  },
  {
   "cell_type": "code",
   "execution_count": 56,
   "metadata": {
    "tags": []
   },
   "outputs": [
    {
     "data": {
      "application/vnd.jupyter.widget-view+json": {
       "model_id": "c9ac34c3e8944e2f9a561d35af63dcea",
       "version_major": 2,
       "version_minor": 0
      },
      "text/plain": [
       "Canvas(toolbar=Toolbar(toolitems=[('Home', 'Reset original view', 'home', 'home'), ('Back', 'Back to previous …"
      ]
     },
     "metadata": {},
     "output_type": "display_data"
    },
    {
     "data": {
      "application/vnd.jupyter.widget-view+json": {
       "model_id": "8f2eabd737be4e32bcac8898ee772fe3",
       "version_major": 2,
       "version_minor": 0
      },
      "text/plain": [
       "interactive(children=(FloatSlider(value=0.0, description='x0', max=0.9, step=0.07), FloatSlider(value=10.0, de…"
      ]
     },
     "metadata": {},
     "output_type": "display_data"
    }
   ],
   "source": [
    "t_start = 10\n",
    "t_end = 500\n",
    "t_step = 0.001\n",
    "t_pcount = points_count(t_start, t_end, t_step)\n",
    "\n",
    "x0_start = 0\n",
    "x0_end = l\n",
    "x0_step = 0.07\n",
    "x0_pcount = points_count(t_start, t_end, t_step)\n",
    "\n",
    "x_start = -1\n",
    "x_end = l + 1\n",
    "x_pcount = 200\n",
    "x = np.linspace(x_start, x_end, x_pcount)\n",
    "\n",
    "plt.close(1)\n",
    "fig1, ax1 = plt.subplots(num=1)\n",
    "\n",
    "\n",
    "def plot_G_lines(x0):\n",
    "    t = [10, 20, 30, 40, 60, 100, 200, 300, 400, 500]\n",
    "    ax1.set_xlim(x_start, x_end)\n",
    "    ax1.set_ylim(0, 0.012)\n",
    "    ax1.set_xlabel(\"$x$, мкм\")\n",
    "    ax1.set_ylabel(\"$G_1(x, x_0, t)$, нм$^{-1}$\")\n",
    "    for t_val in t:\n",
    "        ax1.plot(x, G1(x, x0, t_val, l, I0, 0), label=f't = {t_val} с')\n",
    "    ax1.legend()\n",
    "    \n",
    "# plot_G_lines(0.2)\n",
    "# fig1.savefig('G(x, x0=0.2, t).png', dpi=400)\n",
    "\n",
    "@ipywidgets.interact(x0=(x0_start, x0_end, x0_step), t=(t_start, t_end, t_step))\n",
    "def update1(x0=x0_start, t=t_start):\n",
    "    ax1.cla()\n",
    "    ax1.grid(True)\n",
    "    ax1.set_title(\"Динамика движения одной молекулы\")\n",
    "    ax1.set_xlim(x_start, x_end)\n",
    "    ax1.set_ylim(0, 0.012)\n",
    "    ax1.set_xlabel(\"$x$, мкм\")\n",
    "    ax1.set_ylabel(\"$G_1(x, x_0, t)$, нм$^{-1}$\")\n",
    "    ax1.axvline(x=x0, color='gray', linestyle='--', label=f'$x_0 = {x0}$ мкм', linewidth=1)\n",
    "    ax1.axvline(x=0, color='orange', linestyle=':', linewidth=1)\n",
    "    ax1.axvline(x=l, color='orange', linestyle=':', linewidth=1)\n",
    "    ax1.plot(x, G1(x, x0, t, l, I0, 0), color='C0')"
   ]
  },
  {
   "cell_type": "markdown",
   "metadata": {},
   "source": [
    "## Динамика одномерного рельефа"
   ]
  },
  {
   "cell_type": "code",
   "execution_count": 67,
   "metadata": {},
   "outputs": [],
   "source": [
    "def relief1d(x, t, Δx0, l, I_max, I_min):\n",
    "    x0_pcount = points_count(0, l, Δx0)\n",
    "    x0 = np.linspace(0, l, x0_pcount)\n",
    "    xx, x0x0, tt = np.meshgrid(x, x0, t)\n",
    "    G1_vals = G1(xx, x0x0, tt, l, I_max, I_min)\n",
    "    # averaging over probabilities for all x0 in [0, l]\n",
    "    relief_exposed = integrate.simpson(G1_vals, x0, axis=0, even='avg')\n",
    "    relief_exposed /= l * 1e-3   # why we get perfectly normalized relief function with 1e-3???\n",
    "    relief_exposed = a * (relief_exposed - 1)  # a is initial level of surface in nm (see parameter values cell)\n",
    "    return relief_exposed"
   ]
  },
  {
   "cell_type": "code",
   "execution_count": 68,
   "metadata": {},
   "outputs": [],
   "source": [
    "# TODO: pass meshgrid as parameter so that the function could be compiled with nopython=True\n",
    "# @jit(forceobj=True)\n",
    "def relief1d_extended(x, t, Δx0, l, I_max, I_min):\n",
    "    x0_pcount = points_count(0, l, Δx0)\n",
    "    x0 = np.linspace(0, l, x0_pcount)\n",
    "    xx, x0x0, tt = np.meshgrid(x, x0, t)\n",
    "    G1_vals = G1(xx, x0x0, tt, l, I_max, I_min)\n",
    "    # averaging over probabilities for all x0 in [0, l]\n",
    "    relief_exposed = integrate.simpson(G1_vals, x0, axis=0, even='avg')\n",
    "    relief_exposed /= l * 1e-3   # why we get perfectly normalized relief function with 1e-3???\n",
    "    relief_outside = np.where((0 <= x) & (x <= l), 0, 1)\n",
    "    relief = relief_exposed + relief_outside[:, None]\n",
    "    relief = a * (relief - 1)  # a is initial level of surface in nm (see parameter values cell)\n",
    "    return relief"
   ]
  },
  {
   "cell_type": "markdown",
   "metadata": {},
   "source": [
    "### График функции $G1(x,x0,t)$ при $t = const$"
   ]
  },
  {
   "cell_type": "code",
   "execution_count": 69,
   "metadata": {},
   "outputs": [
    {
     "data": {
      "application/vnd.jupyter.widget-view+json": {
       "model_id": "b870526e6f3d479194b086d2a3136f16",
       "version_major": 2,
       "version_minor": 0
      },
      "text/plain": [
       "Canvas(toolbar=Toolbar(toolitems=[('Home', 'Reset original view', 'home', 'home'), ('Back', 'Back to previous …"
      ]
     },
     "metadata": {},
     "output_type": "display_data"
    },
    {
     "data": {
      "text/plain": [
       "(-1.0, 1.9)"
      ]
     },
     "execution_count": 69,
     "metadata": {},
     "output_type": "execute_result"
    }
   ],
   "source": [
    "%matplotlib widget\n",
    "\n",
    "x_start = -1\n",
    "x_end = l + 1\n",
    "x_pcount = 200\n",
    "x = np.linspace(x_start, x_end, x_pcount)\n",
    "x0 = np.linspace(0, l, x_pcount)\n",
    "t = 250\n",
    "\n",
    "xx, x0x0 = np.meshgrid(x, x0)\n",
    "G1_vals = G1(xx, x0x0, t, l, I0, 0)\n",
    "\n",
    "fig20 = plt.figure(num=20)\n",
    "ax20 = fig20.add_subplot(1, 1, 1, projection='3d')\n",
    "ax20.plot_surface(xx, x0x0, G1_vals)\n",
    "ax20.plot(np.linspace(x_start, 0), np.linspace(x_start, 0), zs=0, zdir='z', color='green')\n",
    "ax20.plot(np.linspace(l, x_end), np.linspace(l, x_end), zs=0, zdir='z', color='green')\n",
    "ax20.set_xlabel('$x$')\n",
    "ax20.set_ylabel('$x_0$')\n",
    "ax20.set_zlabel('$G_1$')\n",
    "ax20.set_ylim(x_start, x_end)"
   ]
  },
  {
   "cell_type": "code",
   "execution_count": 73,
   "metadata": {},
   "outputs": [
    {
     "data": {
      "application/vnd.jupyter.widget-view+json": {
       "model_id": "8ffcc543334c4753a9f0c89e5ee368cd",
       "version_major": 2,
       "version_minor": 0
      },
      "text/plain": [
       "Canvas(toolbar=Toolbar(toolitems=[('Home', 'Reset original view', 'home', 'home'), ('Back', 'Back to previous …"
      ]
     },
     "metadata": {},
     "output_type": "display_data"
    },
    {
     "data": {
      "application/vnd.jupyter.widget-view+json": {
       "model_id": "54bd7d188d414fd7b91115f363fe9119",
       "version_major": 2,
       "version_minor": 0
      },
      "text/plain": [
       "Canvas(toolbar=Toolbar(toolitems=[('Home', 'Reset original view', 'home', 'home'), ('Back', 'Back to previous …"
      ]
     },
     "metadata": {},
     "output_type": "display_data"
    },
    {
     "data": {
      "application/vnd.jupyter.widget-view+json": {
       "model_id": "e5c1fe9147234cec91e3882020f29f11",
       "version_major": 2,
       "version_minor": 0
      },
      "text/plain": [
       "interactive(children=(IntSlider(value=0, description='t_idx', max=499), Output()), _dom_classes=('widget-inter…"
      ]
     },
     "metadata": {},
     "output_type": "display_data"
    },
    {
     "data": {
      "application/vnd.jupyter.widget-view+json": {
       "model_id": "fe0ef618731743a4b16ca5d7f561744b",
       "version_major": 2,
       "version_minor": 0
      },
      "text/plain": [
       "interactive(children=(IntSlider(value=0, description='t_idx', max=499), Output()), _dom_classes=('widget-inter…"
      ]
     },
     "metadata": {},
     "output_type": "display_data"
    }
   ],
   "source": [
    "plt.close(2)\n",
    "fig2, ax2 = plt.subplots(num=2)\n",
    "\n",
    "plt.close(21)\n",
    "fig21, ax21 = plt.subplots(num=21)\n",
    "\n",
    "t_start = 1\n",
    "t_end = 500\n",
    "t_step = 1\n",
    "t_pcount = points_count(t_start, t_end, t_step)\n",
    "t = np.linspace(t_start, t_end, t_pcount)\n",
    "Δx0 = 0.01\n",
    "\n",
    "x_start = -1\n",
    "x_end = l + 1\n",
    "x_pcount = 200\n",
    "x = np.linspace(x_start, x_end, x_pcount)\n",
    "\n",
    "x0_start = x_start\n",
    "x0_end = x_end\n",
    "x0 = np.linspace(x0_start, x0_end, x0_pcount)\n",
    "\n",
    "relief = relief1d(x, t, Δx0, l, I0, 0)\n",
    "relief_extended = relief1d_extended(x, t, Δx0, l, I0, 0)\n",
    "\n",
    "def plot_relief_lines():\n",
    "    t = [50, 100, 200, 300, 500]\n",
    "    ax2.set_xlabel(\"$x$, мкм\")\n",
    "    ax2.set_ylabel(\"Высота, нм\")\n",
    "    ax2.set_xlim(x_start, x_end)\n",
    "    ax2.set_ylim(np.min(relief), np.max(relief))\n",
    "    for t_val in t:\n",
    "        ax2.plot(x, relief1d(x, t_val, Δx0, l, I0, 0), label=f't = {t_val} с')\n",
    "    ax2.legend()\n",
    "    \n",
    "# plot_relief_lines()\n",
    "# fig2.savefig('reliefs.png', dpi=400)\n",
    "\n",
    "@ipywidgets.interact(t_idx=(0, t.size - 1, 1))\n",
    "def update2(t_idx=0):\n",
    "    ax2.cla()\n",
    "    ax2.grid(True)\n",
    "    ax2.set_xlabel(\"$x$, мкм\")\n",
    "    ax2.set_ylabel(\"Высота, нм\")\n",
    "    ax2.set_title(\"Динамика одномерного рельефа\")\n",
    "    ax2.set_xlim(x_start, x_end)\n",
    "    ax2.set_ylim(np.min(relief_extended), np.max(relief_extended))\n",
    "    ax2.axvline(x=0, color='orange', linestyle=':', linewidth=1)\n",
    "    ax2.axvline(x=l, color='orange', linestyle=':', linewidth=1)\n",
    "    ax2.plot(x, relief[:, t_idx], color='C2', label=f't = {t[t_idx]} s')\n",
    "    ax2.legend()\n",
    "\n",
    "@ipywidgets.interact(t_idx=(0, t.size - 1, 1))\n",
    "def update2_extended(t_idx=0):\n",
    "    ax21.cla()\n",
    "    ax21.grid(True)\n",
    "    ax21.set_xlabel(\"$x$, мкм\")\n",
    "    ax21.set_ylabel(\"Высота, нм\")\n",
    "    ax21.set_title(\"Динамика одномерного рельефа\\n(расширенный вариант)\")\n",
    "    ax21.set_xlim(x_start, x_end)\n",
    "    ax21.set_ylim(np.min(relief_extended), np.max(relief_extended))\n",
    "    ax21.axvline(x=0, color='orange', linestyle=':', linewidth=1)\n",
    "    ax21.axvline(x=l, color='orange', linestyle=':', linewidth=1)\n",
    "    ax21.plot(x, relief_extended[:, t_idx], color='C2', label=f't = {t[t_idx]} s')\n",
    "    ax21.legend()"
   ]
  },
  {
   "cell_type": "markdown",
   "metadata": {},
   "source": [
    "# Двумерный случай"
   ]
  },
  {
   "cell_type": "code",
   "execution_count": 19,
   "metadata": {},
   "outputs": [],
   "source": [
    "# @jit(forceobj=True)\n",
    "def linear_dynamics2d(x1, x2, y1, y2, I, ξ_pcount, η_pcount, t, Δx0, ax=None):\n",
    "    \"\"\"\n",
    "    I - function of a linear intensity in the rectangular region (scipy.interpolate.interp2d object)\n",
    "    \"\"\"\n",
    "    # Calculate parameters\n",
    "    lx = x2 - x1\n",
    "    ly = y2 - y1\n",
    "    grad_I = ((I(x2, y1) - I(x1, y1)).item() / lx,\n",
    "              (I(x1, y2) - I(x1, y1)).item() / ly)\n",
    "    θ = np.arctan2(-grad_I[1], -grad_I[0])\n",
    "    cosθ = np.cos(θ)\n",
    "    sinθ = np.sin(θ)\n",
    "    lξ = lx * np.abs(cosθ) + ly * np.abs(sinθ)\n",
    "    lη = lx * np.abs(sinθ) + ly * np.abs(cosθ)\n",
    "    ξ = np.linspace(0, lξ, ξ_pcount)\n",
    "    η = np.linspace(0, lη, η_pcount)\n",
    "    \n",
    "    # Transform ξη to xy coordinates (rotate counterclockwise and shift)\n",
    "    ξξ, ηη = np.meshgrid(ξ, η)\n",
    "    if 0 <= θ <= np.pi / 2:\n",
    "        Δx = x1 + lx * sinθ * sinθ\n",
    "        Δy = y1 - lx * sinθ * cosθ\n",
    "    elif np.pi / 2 <= θ <= np.pi:\n",
    "        Δx = x2 - ly * cosθ * sinθ\n",
    "        Δy = y1 + ly * cosθ * cosθ\n",
    "    elif -np.pi <= θ <= -np.pi / 2:\n",
    "        Δx = x2 - lx * sinθ * sinθ\n",
    "        Δy = y2 + lx * sinθ * cosθ\n",
    "    elif -np.pi / 2 <= θ <= 0:\n",
    "        Δx = x1 + ly * cosθ * sinθ\n",
    "        Δy = y2 - ly * cosθ * cosθ\n",
    "    xx = cosθ * ξξ - sinθ * ηη + Δx\n",
    "    yy = sinθ * ξξ + cosθ * ηη + Δy\n",
    "    # Filter out points that are outside of the rectangular region.\n",
    "    # The grid becomes irregular (contains np.nan's).\n",
    "    x_mask = np.logical_and(xx >= x1, xx <= x2)\n",
    "    y_mask = np.logical_and(yy >= y1, yy <= y2)\n",
    "    region_mask = x_mask & y_mask\n",
    "    xx_region = np.where(region_mask, xx, np.nan)\n",
    "    yy_region = np.where(region_mask, yy, np.nan)\n",
    "    # remove rows that contain only nan's\n",
    "    xx_region = xx_region[~np.isnan(xx_region).all(axis=1)]\n",
    "    yy_region = yy_region[~np.isnan(yy_region).all(axis=1)]\n",
    "    # Transform points back to ξη coordinates\n",
    "    ξξ_region =  cosθ * (xx_region - Δx) + sinθ * (yy_region - Δy)\n",
    "    ηη_region = -sinθ * (xx_region - Δx) + cosθ * (yy_region - Δy)\n",
    "    \n",
    "    # 1D arrays defining the data point coordinates\n",
    "    ξ_relief = np.array([])\n",
    "    η_relief = np.array([])\n",
    "    relief_region = np.array([])\n",
    "    # Compute relief for every line\n",
    "    # TODO: eliminate the loop!\n",
    "    for i in range(ξξ_region.shape[0]):\n",
    "        ξ_reg_line = ξξ_region[i][~np.isnan(ξξ_region[i])]\n",
    "        η_reg_line = ηη_region[i][~np.isnan(ηη_region[i])]\n",
    "        x_reg_line = xx_region[i][~np.isnan(xx_region[i])]\n",
    "        y_reg_line = yy_region[i][~np.isnan(yy_region[i])]\n",
    "        I_max = I(x_reg_line[0], y_reg_line[0]).item()\n",
    "        I_min = I(x_reg_line[-1], y_reg_line[-1]).item()\n",
    "        relief_reg_line = relief1d(ξ_reg_line, t, Δx0, l, I_max, I_min).squeeze()\n",
    "        ξ_relief = np.concatenate((ξ_relief, ξ_reg_line))\n",
    "        η_relief = np.concatenate((η_relief, η_reg_line))\n",
    "        relief_region = np.concatenate((relief_region, relief_reg_line))\n",
    "    # Finally, transform points to xy coordinates\n",
    "    x_relief = cosθ * ξ_relief - sinθ * η_relief + Δx\n",
    "    y_relief = sinθ * ξ_relief + cosθ * η_relief + Δy\n",
    "        \n",
    "    # visualize\n",
    "    if ax is not None:\n",
    "        ax.add_patch(Rectangle((x1, y1), lx, ly, fill=False, edgecolor='black'))\n",
    "        # grad f\n",
    "        x_mid = x1 + lx / 2\n",
    "        y_mid = y1 + ly / 2\n",
    "        ax.arrow(x_mid, y_mid, grad_I[0] * 0.1, grad_I[1] * 0.1, shape='full', width=0.01, head_width=0.05, color='red', label='grad $\\widetilde{I}(x,y)$')\n",
    "        # ξ and η axes\n",
    "        ax.arrow(xx[0][0], yy[0][0], xx[0][-1] - xx[0][0], yy[0][-1] - yy[0][0], shape='full', width=0.01, head_width=0.05, color='orange')\n",
    "        ax.annotate('ξ', (xx[0][-1], yy[0][-1]), fontsize='large')\n",
    "        ax.arrow(xx[0][0], yy[0][0], xx[-1][0] - xx[0][0], yy[-1][0] - yy[0][0], shape='full', width=0.01, head_width=0.05, color='orange')\n",
    "        ax.annotate('η', (xx[-1][0], yy[-1][0]), fontsize='large')\n",
    "        # grid points\n",
    "        ax.scatter(xx, yy, marker='.')\n",
    "        ax.scatter(xx_region, yy_region, marker='+')\n",
    "        ax.scatter(x_relief, y_relief)\n",
    "    \n",
    "    return x_relief, y_relief, relief_region\n",
    "\n",
    "# @jit()\n",
    "def dynamics2d(x_reg_points, y_reg_points, I, ξ_pcount, η_pcount, t, Δx0, ax=None):\n",
    "    x_relief = np.array([])\n",
    "    y_relief = np.array([])\n",
    "    relief = np.array([])\n",
    "    for i in range(x_reg_points.size - 1):\n",
    "        for j in range(y_reg_points.size - 1):\n",
    "            x1 = x_reg_points[i]\n",
    "            x2 = x_reg_points[i + 1]\n",
    "            y1 = y_reg_points[j]\n",
    "            y2 = y_reg_points[j + 1]\n",
    "            x_reg_relief, y_reg_relief, reg_relief = \\\n",
    "                linear_dynamics2d(x1, x2, y1, y2, I, ξ_pcount, η_pcount, t, Δx0, ax=ax)\n",
    "            x_relief = np.concatenate((x_relief, x_reg_relief))\n",
    "            y_relief = np.concatenate((y_relief, y_reg_relief))\n",
    "            relief = np.concatenate((relief, reg_relief))\n",
    "    return x_relief, y_relief, relief"
   ]
  },
  {
   "cell_type": "markdown",
   "metadata": {},
   "source": [
    "## В следующей клетке моделируется динамика рельефа для одной области с линейной интенсивностью."
   ]
  },
  {
   "cell_type": "code",
   "execution_count": 20,
   "metadata": {},
   "outputs": [
    {
     "data": {
      "application/vnd.jupyter.widget-view+json": {
       "model_id": "4d6d21266e974bf29ff7592679f3e041",
       "version_major": 2,
       "version_minor": 0
      },
      "text/plain": [
       "Canvas(toolbar=Toolbar(toolitems=[('Home', 'Reset original view', 'home', 'home'), ('Back', 'Back to previous …"
      ]
     },
     "metadata": {},
     "output_type": "display_data"
    },
    {
     "data": {
      "application/vnd.jupyter.widget-view+json": {
       "model_id": "718a4aa2fbd042f781bc7e3105e838b7",
       "version_major": 2,
       "version_minor": 0
      },
      "text/plain": [
       "Canvas(toolbar=Toolbar(toolitems=[('Home', 'Reset original view', 'home', 'home'), ('Back', 'Back to previous …"
      ]
     },
     "metadata": {},
     "output_type": "display_data"
    },
    {
     "data": {
      "application/vnd.jupyter.widget-view+json": {
       "model_id": "2e6b91fc38064c18803f809b55d4f3e5",
       "version_major": 2,
       "version_minor": 0
      },
      "text/plain": [
       "interactive(children=(FloatSlider(value=-3.0, description='a', max=5.0, min=-5.0, step=0.2), FloatSlider(value…"
      ]
     },
     "metadata": {},
     "output_type": "display_data"
    }
   ],
   "source": [
    "plt.close(3)\n",
    "fig3, ax3 = plt.subplots(num=3)\n",
    "\n",
    "plt.close(4)\n",
    "fig4, ax4 = plt.subplots(num=4)\n",
    "divider4 = make_axes_locatable(ax4)\n",
    "cax4 = divider4.append_axes('right', size='5%', pad=0.2)\n",
    "\n",
    "@ipywidgets.interact(a=(-5, 5, 0.2), b=(-5, 5, 0.2))\n",
    "def update3(a=-3, b=-1):\n",
    "    ax3.cla()\n",
    "    ax3.set_xlim(-1, 1)\n",
    "    ax3.set_ylim(-1, 1)\n",
    "    ax3.set_xlabel(\"$x$, мкм\")\n",
    "    ax3.set_ylabel(\"$y$, мкм\")\n",
    "\n",
    "    def f(x, y):\n",
    "        return a * x + b * y + 1\n",
    "\n",
    "    x_start = -0.5\n",
    "    x_end = 0.5\n",
    "    x_pcount = 40\n",
    "    x_reg_pcount = 2\n",
    "    y_start = -0.4\n",
    "    y_end = 0.4\n",
    "    y_pcount = 40\n",
    "    y_reg_pcount = 2\n",
    "\n",
    "    x = np.linspace(x_start, x_end, x_pcount)\n",
    "    y = np.linspace(y_start, y_end, y_pcount)\n",
    "    xx, yy = np.meshgrid(x, y)\n",
    "    f_vals = f(xx, yy)\n",
    "\n",
    "    # Divide on regions with linear intensity\n",
    "    x_reg_points = np.linspace(x_start, x_end, x_reg_pcount)\n",
    "    y_reg_points = np.linspace(y_start, y_end, y_reg_pcount)\n",
    "    xx_reg_points, yy_reg_points = np.meshgrid(x_reg_points, y_reg_points)\n",
    "    f_reg_vals = f(xx_reg_points, yy_reg_points)\n",
    "\n",
    "    f_lin = interpolate.interp2d(x_reg_points, y_reg_points, f_reg_vals, bounds_error=True)\n",
    "    \n",
    "    t = 500\n",
    "    Δx0 = 0.1\n",
    "    ξ_pcount = 25\n",
    "    η_pcount = 25\n",
    "    \n",
    "    x_relief, y_relief, relief = \\\n",
    "        dynamics2d(x_reg_points, y_reg_points, f, ξ_pcount, η_pcount, t, Δx0, ax=ax3)\n",
    "    \n",
    "    x1 = x_reg_points[0]\n",
    "    x2 = x_reg_points[1]\n",
    "    y1 = y_reg_points[0]\n",
    "    y2 = y_reg_points[1]\n",
    "    ax3.scatter(x1, y1, c='green')\n",
    "    ax3.annotate('$(x_{m}, y_{n})$', (x1, y1))\n",
    "    ax3.scatter(x2, y2, c='green')\n",
    "    ax3.annotate('$(x_{m+1}, y_{n+1})$', (x2, y2))\n",
    "    ax3.legend()\n",
    "    # fig3.savefig('approx region', dpi=400)\n",
    "\n",
    "    # interpolate data so that it can be plotted\n",
    "    points = np.stack((x_relief, y_relief)).T\n",
    "    relief_grid = interpolate.griddata(points, relief, (xx, yy), method='linear')\n",
    "    \n",
    "    # plot 2d relief as heat map\n",
    "    ax4.cla()\n",
    "    cax4.cla()\n",
    "    ax4.set_title('Динамика двумерного рельефа')\n",
    "    ax4.set_xlabel('$x$, мкм')\n",
    "    ax4.set_ylabel('$y$, мкм')\n",
    "    plot4 = ax4.imshow(relief_grid, extent=(x_start, x_end, y_start, y_end), origin='lower')\n",
    "    cbar4 = fig4.colorbar(plot4, cax=cax4)\n",
    "    cbar4.set_label('Высота, нм')\n",
    "    # fig4.savefig('approx region relief', dpi=400)"
   ]
  },
  {
   "cell_type": "markdown",
   "metadata": {},
   "source": [
    "## Динамика двумерного рельефа для произвольного распределения интенсивности"
   ]
  },
  {
   "cell_type": "code",
   "execution_count": 10,
   "metadata": {},
   "outputs": [
    {
     "data": {
      "application/vnd.jupyter.widget-view+json": {
       "model_id": "6d9584aa53744fbcba6be58c032c7931",
       "version_major": 2,
       "version_minor": 0
      },
      "text/plain": [
       "Canvas(toolbar=Toolbar(toolitems=[('Home', 'Reset original view', 'home', 'home'), ('Back', 'Back to previous …"
      ]
     },
     "metadata": {},
     "output_type": "display_data"
    },
    {
     "data": {
      "application/vnd.jupyter.widget-view+json": {
       "model_id": "4df8893251424d519712d84124d6cb54",
       "version_major": 2,
       "version_minor": 0
      },
      "text/plain": [
       "Canvas(toolbar=Toolbar(toolitems=[('Home', 'Reset original view', 'home', 'home'), ('Back', 'Back to previous …"
      ]
     },
     "metadata": {},
     "output_type": "display_data"
    }
   ],
   "source": [
    "def I_norm(x, y):\n",
    "    # I_norm(0, 0) = 1\n",
    "    # I_norm(l, 0) = I_norm(0, l) = 0\n",
    "    return -l**(-2) * (x**2 + y**2) + 1\n",
    "\n",
    "def I(x, y):\n",
    "    return I0 * I_norm(x, y)\n",
    "\n",
    "x_start = -l\n",
    "x_end = l\n",
    "x_pcount = 300\n",
    "x_reg_pcount = 11\n",
    "y_start = -l\n",
    "y_end = l\n",
    "y_pcount = 300\n",
    "y_reg_pcount = 11\n",
    "\n",
    "x = np.linspace(x_start, x_end, x_pcount)\n",
    "y = np.linspace(y_start, y_end, y_pcount)\n",
    "xx, yy = np.meshgrid(x, y)\n",
    "I_vals = I(xx, yy)\n",
    "\n",
    "# Divide on regions with linear intensity\n",
    "x_reg_points = np.linspace(x_start, x_end, x_reg_pcount)\n",
    "y_reg_points = np.linspace(y_start, y_end, y_reg_pcount)\n",
    "xx_reg_points, yy_reg_points = np.meshgrid(x_reg_points, y_reg_points)\n",
    "I_reg_vals = I(xx_reg_points, yy_reg_points)\n",
    "\n",
    "I_lin = interpolate.interp2d(x_reg_points, y_reg_points, I_reg_vals, kind='linear', bounds_error=True)\n",
    "I_lin_vals = I_lin(x, y)\n",
    "\n",
    "t_start = 1\n",
    "t_end = 500\n",
    "t_step = 1\n",
    "t_pcount = points_count(t_start, t_end, t_step)\n",
    "# t = np.linspace(t_start, t_end, t_pcount)\n",
    "t = 100\n",
    "Δx0 = 0.1\n",
    "ξ_pcount = 50\n",
    "η_pcount = 50\n",
    "\n",
    "x_relief, y_relief, relief = \\\n",
    "    dynamics2d(x_reg_points, y_reg_points, I, ξ_pcount, η_pcount, t, Δx0, ax=None)\n",
    "\n",
    "# interpolate data so that it can be plotted\n",
    "points = np.stack((x_relief, y_relief)).T\n",
    "relief_grid = interpolate.griddata(points, relief, (xx, yy), method='cubic')\n",
    "\n",
    "# plot 2d relief\n",
    "plt.close(5)\n",
    "fig5, ax5 = plt.subplots(num=5)\n",
    "divider5 = make_axes_locatable(ax5)\n",
    "cax5 = divider5.append_axes('right', size='5%', pad=0.2)\n",
    "ax5.set_title('Динамика двумерного рельефа')\n",
    "ax5.set_xlabel('$x$, мкм')\n",
    "ax5.set_ylabel('$y$, мкм')\n",
    "plot5 = ax5.imshow(relief_grid, extent=(x_start, x_end, y_start, y_end), origin='lower')\n",
    "cbar5 = fig5.colorbar(plot5, cax=cax5)\n",
    "cbar5.set_label('Высота, нм')\n",
    "\n",
    "# fig5.savefig('2d dynamics', dpi=400)\n",
    "\n",
    "# plot intensity\n",
    "plt.close(6)\n",
    "fig6, ax6 = plt.subplots(num=6)\n",
    "divider6 = make_axes_locatable(ax6)\n",
    "cax6 = divider6.append_axes('right', size='5%', pad=0.2)\n",
    "ax6.set_title('Интенсивность излучения')\n",
    "ax6.set_xlabel('$x$, мкм')\n",
    "ax6.set_ylabel('$y$, мкм')\n",
    "plot6 = ax6.imshow(I_lin_vals, extent=(x_start, x_end, y_start, y_end), origin='lower', cmap='copper')\n",
    "cbar6 = fig6.colorbar(plot6, cax=cax6)\n",
    "cbar6.set_label('Интенсивность, мВт/см²')\n",
    "               \n",
    "# fig6.savefig('2d dynamics intensity', dpi=400)"
   ]
  },
  {
   "cell_type": "code",
   "execution_count": null,
   "metadata": {},
   "outputs": [],
   "source": []
  },
  {
   "cell_type": "markdown",
   "metadata": {},
   "source": [
    "# Bibliography\n",
    "\n",
    "1) [Nesterenko, Dmitry V., et al. \"Simulation of photochemically induced motion of matter in gradient light fields.\" Journal of Applied Physics 127.24 (2020): 243106.](https://doi.org/10.1063/5.0011388)\n",
    "\n",
    "2) [Sekkat, Zouheir. \"Optical tweezing by photomigration.\" Applied Optics 55.2 (2016): 259-268.](https://doi.org/10.1364/AO.55.000259)"
   ]
  },
  {
   "cell_type": "code",
   "execution_count": null,
   "metadata": {},
   "outputs": [],
   "source": []
  }
 ],
 "metadata": {
  "kernelspec": {
   "display_name": "Python 3",
   "language": "python",
   "name": "python3"
  },
  "language_info": {
   "codemirror_mode": {
    "name": "ipython",
    "version": 3
   },
   "file_extension": ".py",
   "mimetype": "text/x-python",
   "name": "python",
   "nbconvert_exporter": "python",
   "pygments_lexer": "ipython3",
   "version": "3.8.8"
  },
  "toc-autonumbering": true,
  "toc-showcode": true,
  "toc-showmarkdowntxt": true
 },
 "nbformat": 4,
 "nbformat_minor": 4
}
